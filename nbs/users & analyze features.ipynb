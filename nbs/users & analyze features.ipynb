{
 "cells": [
  {
   "cell_type": "code",
   "execution_count": 3,
   "id": "ba5e101f",
   "metadata": {},
   "outputs": [
    {
     "name": "stdout",
     "output_type": "stream",
     "text": [
      "F:\\project4\n"
     ]
    }
   ],
   "source": [
    "%cd F:\\project4\n"
   ]
  },
  {
   "cell_type": "code",
   "execution_count": 16,
   "id": "b22c278f",
   "metadata": {},
   "outputs": [],
   "source": [
    "from application import db\n",
    "from application.users.models import User\n",
    "from cassandra.cqlengine.management import sync_table\n"
   ]
  },
  {
   "cell_type": "code",
   "execution_count": 17,
   "id": "8f3fa402",
   "metadata": {},
   "outputs": [],
   "source": [
    "db.get_session()\n",
    "sync_table(User)"
   ]
  },
  {
   "cell_type": "code",
   "execution_count": 18,
   "id": "68d36386",
   "metadata": {},
   "outputs": [],
   "source": [
    "#User.create_user(\"honeysaxena525@gmail.com\", password='abc123')"
   ]
  },
  {
   "cell_type": "code",
   "execution_count": 12,
   "id": "8fadb774",
   "metadata": {},
   "outputs": [
    {
     "ename": "Exception",
     "evalue": "user already has account with this email",
     "output_type": "error",
     "traceback": [
      "\u001b[1;31m---------------------------------------------------------------------------\u001b[0m",
      "\u001b[1;31mException\u001b[0m                                 Traceback (most recent call last)",
      "Cell \u001b[1;32mIn[12], line 1\u001b[0m\n\u001b[1;32m----> 1\u001b[0m user_a \u001b[38;5;241m=\u001b[39m \u001b[43mUser\u001b[49m\u001b[38;5;241;43m.\u001b[39;49m\u001b[43mcreate_user\u001b[49m\u001b[43m(\u001b[49m\u001b[38;5;124;43m\"\u001b[39;49m\u001b[38;5;124;43mabc@gmail.com\u001b[39;49m\u001b[38;5;124;43m\"\u001b[39;49m\u001b[43m,\u001b[49m\u001b[43m \u001b[49m\u001b[43mpassword\u001b[49m\u001b[38;5;241;43m=\u001b[39;49m\u001b[38;5;124;43m'\u001b[39;49m\u001b[38;5;124;43mabc123\u001b[39;49m\u001b[38;5;124;43m'\u001b[39;49m\u001b[43m)\u001b[49m\n",
      "File \u001b[1;32mF:\\project4\\application\\users\\models.py:37\u001b[0m, in \u001b[0;36mUser.create_user\u001b[1;34m(email, password)\u001b[0m\n\u001b[0;32m     35\u001b[0m q \u001b[38;5;241m=\u001b[39m User\u001b[38;5;241m.\u001b[39mobjects\u001b[38;5;241m.\u001b[39mfilter(email\u001b[38;5;241m=\u001b[39memail)\n\u001b[0;32m     36\u001b[0m \u001b[38;5;28;01mif\u001b[39;00m q\u001b[38;5;241m.\u001b[39mcount() \u001b[38;5;241m!=\u001b[39m \u001b[38;5;241m0\u001b[39m:\n\u001b[1;32m---> 37\u001b[0m     \u001b[38;5;28;01mraise\u001b[39;00m \u001b[38;5;167;01mException\u001b[39;00m(\u001b[38;5;124m\"\u001b[39m\u001b[38;5;124muser already has account with this email\u001b[39m\u001b[38;5;124m\"\u001b[39m)\n\u001b[0;32m     38\u001b[0m valid, msg, email \u001b[38;5;241m=\u001b[39m validators\u001b[38;5;241m.\u001b[39m_validate_email(email)\n\u001b[0;32m     39\u001b[0m \u001b[38;5;28;01mif\u001b[39;00m \u001b[38;5;129;01mnot\u001b[39;00m valid:\n",
      "\u001b[1;31mException\u001b[0m: user already has account with this email"
     ]
    }
   ],
   "source": [
    "user_a = User.create_user(\"abc@gmail.com\", password='abc123')\n"
   ]
  },
  {
   "cell_type": "code",
   "execution_count": 19,
   "id": "6fbba47b",
   "metadata": {},
   "outputs": [
    {
     "data": {
      "text/plain": [
       "'$argon2id$v=19$m=65536,t=3,p=4$pgu5iS/0Ya2a8zxeCcNzBA$CncfEST4KOo0kv6i4kelt5lqM3mdCxjsqiotswJJdwI'"
      ]
     },
     "execution_count": 19,
     "metadata": {},
     "output_type": "execute_result"
    }
   ],
   "source": [
    "user_a.password"
   ]
  },
  {
   "cell_type": "code",
   "execution_count": 21,
   "id": "917d3ff7",
   "metadata": {},
   "outputs": [
    {
     "data": {
      "text/plain": [
       "True"
      ]
     },
     "execution_count": 21,
     "metadata": {},
     "output_type": "execute_result"
    }
   ],
   "source": [
    "user_a.verify_password('abc123')"
   ]
  },
  {
   "cell_type": "code",
   "execution_count": 40,
   "id": "35d549cf",
   "metadata": {},
   "outputs": [],
   "source": [
    "from pydantic import BaseModel, EmailStr, SecretStr, validator"
   ]
  },
  {
   "cell_type": "code",
   "execution_count": 36,
   "id": "ae05737f",
   "metadata": {},
   "outputs": [],
   "source": [
    "class UserLoginSchema(BaseModel):\n",
    "    email: EmailStr\n",
    "    password: SecretStr    "
   ]
  },
  {
   "cell_type": "code",
   "execution_count": 38,
   "id": "44891dfc",
   "metadata": {},
   "outputs": [],
   "source": [
    "post_data = {\n",
    "    \"email\": \"abc@abc.jin\",\n",
    "    \"password\": \"abc123\"\n",
    "}"
   ]
  },
  {
   "cell_type": "code",
   "execution_count": 39,
   "id": "f8ddfd85",
   "metadata": {},
   "outputs": [
    {
     "data": {
      "text/plain": [
       "UserLoginSchema(email='abc@abc.jin', password=SecretStr('**********'))"
      ]
     },
     "execution_count": 39,
     "metadata": {},
     "output_type": "execute_result"
    }
   ],
   "source": [
    "UserLoginSchema(**post_data)"
   ]
  },
  {
   "cell_type": "code",
   "execution_count": 48,
   "id": "e833a0b9",
   "metadata": {},
   "outputs": [],
   "source": [
    "class UserSignupSchema(BaseModel):\n",
    "    email: EmailStr\n",
    "    password: SecretStr\n",
    "    confirm_password: SecretStr\n",
    "        \n",
    "    @validator(\"email\")\n",
    "    def email_available(cls, v, values, **kwargs):\n",
    "        q = User.objects.filter(email=v)\n",
    "        if q.count() != 0:\n",
    "            raise ValueError(\"Email is not Available\")\n",
    "        return v    \n",
    "        \n",
    "    @validator(\"confirm_password\")\n",
    "    def pass_match(cls, v, values, **kwargs):\n",
    "        password = values.get(\"password\")\n",
    "        confirm_password = v\n",
    "        if password != confirm_password:\n",
    "            raise ValueError(\"password do not match\")\n",
    "        return v    "
   ]
  },
  {
   "cell_type": "code",
   "execution_count": 49,
   "id": "4d63a6a2",
   "metadata": {},
   "outputs": [],
   "source": [
    "data = UserSignupSchema(email=\"abc@abc.com\", password=\"abc123\", confirm_password=\"abc123\")"
   ]
  },
  {
   "cell_type": "code",
   "execution_count": 50,
   "id": "e425d5f9",
   "metadata": {},
   "outputs": [
    {
     "data": {
      "text/plain": [
       "'{\"email\": \"abc@abc.com\", \"password\": \"**********\", \"confirm_password\": \"**********\"}'"
      ]
     },
     "execution_count": 50,
     "metadata": {},
     "output_type": "execute_result"
    }
   ],
   "source": [
    "data.json()"
   ]
  },
  {
   "cell_type": "code",
   "execution_count": 46,
   "id": "21382240",
   "metadata": {},
   "outputs": [
    {
     "data": {
      "text/plain": [
       "{'email': 'abc@abc.com',\n",
       " 'password': SecretStr('**********'),\n",
       " 'confirm_password': SecretStr('**********')}"
      ]
     },
     "execution_count": 46,
     "metadata": {},
     "output_type": "execute_result"
    }
   ],
   "source": [
    "data.dict()"
   ]
  },
  {
   "cell_type": "code",
   "execution_count": 47,
   "id": "1c192740",
   "metadata": {},
   "outputs": [
    {
     "data": {
      "text/plain": [
       "'abc123'"
      ]
     },
     "execution_count": 47,
     "metadata": {},
     "output_type": "execute_result"
    }
   ],
   "source": [
    "data.dict()['password'].get_secret_value()"
   ]
  },
  {
   "cell_type": "code",
   "execution_count": null,
   "id": "4a40a780",
   "metadata": {},
   "outputs": [],
   "source": []
  }
 ],
 "metadata": {
  "kernelspec": {
   "display_name": "Python 3 (ipykernel)",
   "language": "python",
   "name": "python3"
  },
  "language_info": {
   "codemirror_mode": {
    "name": "ipython",
    "version": 3
   },
   "file_extension": ".py",
   "mimetype": "text/x-python",
   "name": "python",
   "nbconvert_exporter": "python",
   "pygments_lexer": "ipython3",
   "version": "3.10.0"
  }
 },
 "nbformat": 4,
 "nbformat_minor": 5
}
