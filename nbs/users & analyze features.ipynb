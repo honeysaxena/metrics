{
 "cells": [
  {
   "cell_type": "code",
   "execution_count": 3,
   "id": "1b052e1b",
   "metadata": {},
   "outputs": [
    {
     "name": "stdout",
     "output_type": "stream",
     "text": [
      "F:\\project4\n"
     ]
    }
   ],
   "source": [
    "%cd F:\\project4\n"
   ]
  },
  {
   "cell_type": "code",
   "execution_count": 16,
   "id": "ef70f6e4",
   "metadata": {},
   "outputs": [],
   "source": [
    "from application import db\n",
    "from application.users.models import User\n",
    "from cassandra.cqlengine.management import sync_table\n"
   ]
  },
  {
   "cell_type": "code",
   "execution_count": 17,
   "id": "095b2c81",
   "metadata": {},
   "outputs": [],
   "source": [
    "db.get_session()\n",
    "sync_table(User)"
   ]
  },
  {
   "cell_type": "code",
   "execution_count": 18,
   "id": "23b33d39",
   "metadata": {},
   "outputs": [],
   "source": [
    "#User.create_user(\"honeysaxena525@gmail.com\", password='abc123')"
   ]
  },
  {
   "cell_type": "code",
   "execution_count": 12,
   "id": "741726b4",
   "metadata": {},
   "outputs": [
    {
     "ename": "Exception",
     "evalue": "user already has account with this email",
     "output_type": "error",
     "traceback": [
      "\u001b[1;31m---------------------------------------------------------------------------\u001b[0m",
      "\u001b[1;31mException\u001b[0m                                 Traceback (most recent call last)",
      "Cell \u001b[1;32mIn[12], line 1\u001b[0m\n\u001b[1;32m----> 1\u001b[0m user_a \u001b[38;5;241m=\u001b[39m \u001b[43mUser\u001b[49m\u001b[38;5;241;43m.\u001b[39;49m\u001b[43mcreate_user\u001b[49m\u001b[43m(\u001b[49m\u001b[38;5;124;43m\"\u001b[39;49m\u001b[38;5;124;43mabc@gmail.com\u001b[39;49m\u001b[38;5;124;43m\"\u001b[39;49m\u001b[43m,\u001b[49m\u001b[43m \u001b[49m\u001b[43mpassword\u001b[49m\u001b[38;5;241;43m=\u001b[39;49m\u001b[38;5;124;43m'\u001b[39;49m\u001b[38;5;124;43mabc123\u001b[39;49m\u001b[38;5;124;43m'\u001b[39;49m\u001b[43m)\u001b[49m\n",
      "File \u001b[1;32mF:\\project4\\application\\users\\models.py:37\u001b[0m, in \u001b[0;36mUser.create_user\u001b[1;34m(email, password)\u001b[0m\n\u001b[0;32m     35\u001b[0m q \u001b[38;5;241m=\u001b[39m User\u001b[38;5;241m.\u001b[39mobjects\u001b[38;5;241m.\u001b[39mfilter(email\u001b[38;5;241m=\u001b[39memail)\n\u001b[0;32m     36\u001b[0m \u001b[38;5;28;01mif\u001b[39;00m q\u001b[38;5;241m.\u001b[39mcount() \u001b[38;5;241m!=\u001b[39m \u001b[38;5;241m0\u001b[39m:\n\u001b[1;32m---> 37\u001b[0m     \u001b[38;5;28;01mraise\u001b[39;00m \u001b[38;5;167;01mException\u001b[39;00m(\u001b[38;5;124m\"\u001b[39m\u001b[38;5;124muser already has account with this email\u001b[39m\u001b[38;5;124m\"\u001b[39m)\n\u001b[0;32m     38\u001b[0m valid, msg, email \u001b[38;5;241m=\u001b[39m validators\u001b[38;5;241m.\u001b[39m_validate_email(email)\n\u001b[0;32m     39\u001b[0m \u001b[38;5;28;01mif\u001b[39;00m \u001b[38;5;129;01mnot\u001b[39;00m valid:\n",
      "\u001b[1;31mException\u001b[0m: user already has account with this email"
     ]
    }
   ],
   "source": [
    "user_a = User.create_user(\"abc@gmail.com\", password='abc123')\n"
   ]
  },
  {
   "cell_type": "code",
   "execution_count": 19,
   "id": "2d89663d",
   "metadata": {},
   "outputs": [
    {
     "data": {
      "text/plain": [
       "'$argon2id$v=19$m=65536,t=3,p=4$pgu5iS/0Ya2a8zxeCcNzBA$CncfEST4KOo0kv6i4kelt5lqM3mdCxjsqiotswJJdwI'"
      ]
     },
     "execution_count": 19,
     "metadata": {},
     "output_type": "execute_result"
    }
   ],
   "source": [
    "user_a.password"
   ]
  },
  {
   "cell_type": "code",
   "execution_count": 21,
   "id": "51939ebc",
   "metadata": {},
   "outputs": [
    {
     "data": {
      "text/plain": [
       "True"
      ]
     },
     "execution_count": 21,
     "metadata": {},
     "output_type": "execute_result"
    }
   ],
   "source": [
    "user_a.verify_password('abc123')"
   ]
  },
  {
   "cell_type": "code",
   "execution_count": null,
   "id": "73677beb",
   "metadata": {},
   "outputs": [],
   "source": []
  }
 ],
 "metadata": {
  "kernelspec": {
   "display_name": "Python 3 (ipykernel)",
   "language": "python",
   "name": "python3"
  },
  "language_info": {
   "codemirror_mode": {
    "name": "ipython",
    "version": 3
   },
   "file_extension": ".py",
   "mimetype": "text/x-python",
   "name": "python",
   "nbconvert_exporter": "python",
   "pygments_lexer": "ipython3",
   "version": "3.10.0"
  }
 },
 "nbformat": 4,
 "nbformat_minor": 5
}
