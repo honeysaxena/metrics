{
 "cells": [
  {
   "cell_type": "code",
   "execution_count": 50,
   "id": "ba5e101f",
   "metadata": {},
   "outputs": [
    {
     "name": "stdout",
     "output_type": "stream",
     "text": [
      "F:\\project4\n"
     ]
    }
   ],
   "source": [
    "%cd F:\\project4\n"
   ]
  },
  {
   "cell_type": "code",
   "execution_count": 51,
   "id": "b22c278f",
   "metadata": {},
   "outputs": [],
   "source": [
    "from application import db\n",
    "from application.users.models import User\n",
    "from application.videos.models import Video\n"
   ]
  },
  {
   "cell_type": "code",
   "execution_count": 52,
   "id": "dbea92b0",
   "metadata": {},
   "outputs": [],
   "source": [
    "from application.db import engine, SessionLocal, Base\n",
    "#sync_table(User)\n",
    "#sync_table(Video)"
   ]
  },
  {
   "cell_type": "code",
   "execution_count": 53,
   "id": "4a40a780",
   "metadata": {},
   "outputs": [],
   "source": [
    "session = SessionLocal()"
   ]
  },
  {
   "cell_type": "code",
   "execution_count": 54,
   "id": "080a6cc9",
   "metadata": {},
   "outputs": [],
   "source": [
    "from sqlalchemy import select\n",
    "result = session.execute(\n",
    "    select(User).where(User.email == 'test@gmail.com')\n",
    ")\n"
   ]
  },
  {
   "cell_type": "code",
   "execution_count": 55,
   "id": "34ec7428",
   "metadata": {},
   "outputs": [],
   "source": [
    "connection = engine.connect()"
   ]
  },
  {
   "cell_type": "code",
   "execution_count": 56,
   "id": "92dca120",
   "metadata": {},
   "outputs": [],
   "source": [
    "table_name = 'users'\n",
    "column_name = 'email,user_id'"
   ]
  },
  {
   "cell_type": "code",
   "execution_count": 57,
   "id": "371887de",
   "metadata": {},
   "outputs": [],
   "source": [
    "query = f'SELECT {column_name} FROM {table_name}'"
   ]
  },
  {
   "cell_type": "code",
   "execution_count": 58,
   "id": "f2334273",
   "metadata": {},
   "outputs": [],
   "source": [
    "from sqlalchemy import text"
   ]
  },
  {
   "cell_type": "code",
   "execution_count": 59,
   "id": "b78feb97",
   "metadata": {},
   "outputs": [],
   "source": [
    "result = connection.execute(text(query))"
   ]
  },
  {
   "cell_type": "code",
   "execution_count": 63,
   "id": "3fa3156a",
   "metadata": {},
   "outputs": [
    {
     "ename": "TypeError",
     "evalue": "'NoneType' object is not subscriptable",
     "output_type": "error",
     "traceback": [
      "\u001b[1;31m---------------------------------------------------------------------------\u001b[0m",
      "\u001b[1;31mTypeError\u001b[0m                                 Traceback (most recent call last)",
      "Cell \u001b[1;32mIn[63], line 4\u001b[0m\n\u001b[0;32m      1\u001b[0m values \u001b[38;5;241m=\u001b[39m result\u001b[38;5;241m.\u001b[39mfetchone()\n\u001b[0;32m      3\u001b[0m \u001b[38;5;66;03m# printing the output\u001b[39;00m\n\u001b[1;32m----> 4\u001b[0m \u001b[38;5;28mprint\u001b[39m(\u001b[43mvalues\u001b[49m\u001b[43m[\u001b[49m\u001b[38;5;241;43m1\u001b[39;49m\u001b[43m]\u001b[49m)\n",
      "\u001b[1;31mTypeError\u001b[0m: 'NoneType' object is not subscriptable"
     ]
    }
   ],
   "source": [
    "values = result.fetchone()\n",
    "  \n",
    "# printing the output\n",
    "print(values)\n"
   ]
  },
  {
   "cell_type": "code",
   "execution_count": 33,
   "id": "3f79a984",
   "metadata": {},
   "outputs": [],
   "source": [
    "url = 'https://www.youtube.com/watch?v=KQ-u4RcFLBY&t=17722s&ab_channel=CodingEntrepreneurs'"
   ]
  },
  {
   "cell_type": "code",
   "execution_count": 34,
   "id": "aa3e55c7",
   "metadata": {},
   "outputs": [
    {
     "ename": "AttributeError",
     "evalue": "'Query' object has no attribute 'user_id'",
     "output_type": "error",
     "traceback": [
      "\u001b[1;31m---------------------------------------------------------------------------\u001b[0m",
      "\u001b[1;31mAttributeError\u001b[0m                            Traceback (most recent call last)",
      "Cell \u001b[1;32mIn[34], line 1\u001b[0m\n\u001b[1;32m----> 1\u001b[0m obj \u001b[38;5;241m=\u001b[39m Video\u001b[38;5;241m.\u001b[39madd_video(url, user_id\u001b[38;5;241m=\u001b[39m\u001b[43mabc\u001b[49m\u001b[38;5;241;43m.\u001b[39;49m\u001b[43muser_id\u001b[49m)\n\u001b[0;32m      2\u001b[0m session\u001b[38;5;241m.\u001b[39madd(obj)\n\u001b[0;32m      3\u001b[0m session\u001b[38;5;241m.\u001b[39mcommit()\n",
      "\u001b[1;31mAttributeError\u001b[0m: 'Query' object has no attribute 'user_id'"
     ]
    }
   ],
   "source": [
    "obj = Video.add_video(url, user_id=abc.user_id)\n",
    "session.add(obj)\n",
    "session.commit()"
   ]
  },
  {
   "cell_type": "code",
   "execution_count": null,
   "id": "7ca2c0e2",
   "metadata": {},
   "outputs": [],
   "source": []
  },
  {
   "cell_type": "code",
   "execution_count": null,
   "id": "28639c7d",
   "metadata": {},
   "outputs": [],
   "source": []
  },
  {
   "cell_type": "code",
   "execution_count": null,
   "id": "87d95a1e",
   "metadata": {},
   "outputs": [],
   "source": []
  },
  {
   "cell_type": "code",
   "execution_count": null,
   "id": "e858119f",
   "metadata": {},
   "outputs": [],
   "source": []
  }
 ],
 "metadata": {
  "kernelspec": {
   "display_name": "Python 3 (ipykernel)",
   "language": "python",
   "name": "python3"
  },
  "language_info": {
   "codemirror_mode": {
    "name": "ipython",
    "version": 3
   },
   "file_extension": ".py",
   "mimetype": "text/x-python",
   "name": "python",
   "nbconvert_exporter": "python",
   "pygments_lexer": "ipython3",
   "version": "3.10.0"
  }
 },
 "nbformat": 4,
 "nbformat_minor": 5
}
