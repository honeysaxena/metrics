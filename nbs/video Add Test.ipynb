{
 "cells": [
  {
   "cell_type": "code",
   "execution_count": 19,
   "id": "ba5e101f",
   "metadata": {},
   "outputs": [
    {
     "name": "stdout",
     "output_type": "stream",
     "text": [
      "F:\\project4\n"
     ]
    }
   ],
   "source": [
    "%cd F:\\project4\n"
   ]
  },
  {
   "cell_type": "code",
   "execution_count": 33,
   "id": "b22c278f",
   "metadata": {},
   "outputs": [],
   "source": [
    "from application import db\n",
    "from application.users.models import User\n",
    "from application.videos.models import Video\n"
   ]
  },
  {
   "cell_type": "code",
   "execution_count": 34,
   "id": "dbea92b0",
   "metadata": {},
   "outputs": [
    {
     "data": {
      "text/plain": [
       "<cassandra.cluster.Session at 0x223d5421180>"
      ]
     },
     "execution_count": 34,
     "metadata": {},
     "output_type": "execute_result"
    }
   ],
   "source": [
    "db.get_session()\n",
    "#sync_table(User)\n",
    "#sync_table(Video)"
   ]
  },
  {
   "cell_type": "code",
   "execution_count": 35,
   "id": "4a40a780",
   "metadata": {},
   "outputs": [],
   "source": [
    "sync_table(User)    "
   ]
  },
  {
   "cell_type": "code",
   "execution_count": 38,
   "id": "080a6cc9",
   "metadata": {},
   "outputs": [
    {
     "ename": "CQLEngineException",
     "evalue": "Model <class 'cassandra.cqlengine.models.Video'> PRIMARY KEY composition does not match existing table \"SpotifyAPI_app\".video. Model: PRIMARY KEY ((host_id), db_id); Table: PRIMARY KEY ((spotify_id), db_id). Update model or drop the table.",
     "output_type": "error",
     "traceback": [
      "\u001b[1;31m---------------------------------------------------------------------------\u001b[0m",
      "\u001b[1;31mCQLEngineException\u001b[0m                        Traceback (most recent call last)",
      "Cell \u001b[1;32mIn[38], line 1\u001b[0m\n\u001b[1;32m----> 1\u001b[0m \u001b[43msync_table\u001b[49m\u001b[43m(\u001b[49m\u001b[43mVideo\u001b[49m\u001b[43m)\u001b[49m\n",
      "File \u001b[1;32mF:\\project4\\p4env\\lib\\site-packages\\cassandra\\cqlengine\\management.py:190\u001b[0m, in \u001b[0;36msync_table\u001b[1;34m(model, keyspaces, connections)\u001b[0m\n\u001b[0;32m    188\u001b[0m \u001b[38;5;28;01mfor\u001b[39;00m connection, keyspace \u001b[38;5;129;01min\u001b[39;00m context:\n\u001b[0;32m    189\u001b[0m     \u001b[38;5;28;01mwith\u001b[39;00m query\u001b[38;5;241m.\u001b[39mContextQuery(model, keyspace\u001b[38;5;241m=\u001b[39mkeyspace) \u001b[38;5;28;01mas\u001b[39;00m m:\n\u001b[1;32m--> 190\u001b[0m         \u001b[43m_sync_table\u001b[49m\u001b[43m(\u001b[49m\u001b[43mm\u001b[49m\u001b[43m,\u001b[49m\u001b[43m \u001b[49m\u001b[43mconnection\u001b[49m\u001b[38;5;241;43m=\u001b[39;49m\u001b[43mconnection\u001b[49m\u001b[43m)\u001b[49m\n",
      "File \u001b[1;32mF:\\project4\\p4env\\lib\\site-packages\\cassandra\\cqlengine\\management.py:241\u001b[0m, in \u001b[0;36m_sync_table\u001b[1;34m(model, connection)\u001b[0m\n\u001b[0;32m    238\u001b[0m log\u001b[38;5;241m.\u001b[39mdebug(format_log_context(\u001b[38;5;124m\"\u001b[39m\u001b[38;5;124msync_table checking existing table \u001b[39m\u001b[38;5;132;01m%s\u001b[39;00m\u001b[38;5;124m\"\u001b[39m, keyspace\u001b[38;5;241m=\u001b[39mks_name, connection\u001b[38;5;241m=\u001b[39mconnection), cf_name)\n\u001b[0;32m    239\u001b[0m table_meta \u001b[38;5;241m=\u001b[39m tables[raw_cf_name]\n\u001b[1;32m--> 241\u001b[0m \u001b[43m_validate_pk\u001b[49m\u001b[43m(\u001b[49m\u001b[43mmodel\u001b[49m\u001b[43m,\u001b[49m\u001b[43m \u001b[49m\u001b[43mtable_meta\u001b[49m\u001b[43m)\u001b[49m\n\u001b[0;32m    243\u001b[0m table_columns \u001b[38;5;241m=\u001b[39m table_meta\u001b[38;5;241m.\u001b[39mcolumns\n\u001b[0;32m    244\u001b[0m model_fields \u001b[38;5;241m=\u001b[39m \u001b[38;5;28mset\u001b[39m()\n",
      "File \u001b[1;32mF:\\project4\\p4env\\lib\\site-packages\\cassandra\\cqlengine\\management.py:300\u001b[0m, in \u001b[0;36m_validate_pk\u001b[1;34m(model, table_meta)\u001b[0m\n\u001b[0;32m    298\u001b[0m \u001b[38;5;28;01mdef\u001b[39;00m \u001b[38;5;21m_pk_string\u001b[39m(partition, clustering):\n\u001b[0;32m    299\u001b[0m     \u001b[38;5;28;01mreturn\u001b[39;00m \u001b[38;5;124m\"\u001b[39m\u001b[38;5;124mPRIMARY KEY ((\u001b[39m\u001b[38;5;132;01m{0}\u001b[39;00m\u001b[38;5;124m)\u001b[39m\u001b[38;5;132;01m{1}\u001b[39;00m\u001b[38;5;124m)\u001b[39m\u001b[38;5;124m\"\u001b[39m\u001b[38;5;241m.\u001b[39mformat(\u001b[38;5;124m'\u001b[39m\u001b[38;5;124m, \u001b[39m\u001b[38;5;124m'\u001b[39m\u001b[38;5;241m.\u001b[39mjoin(partition), \u001b[38;5;124m'\u001b[39m\u001b[38;5;124m, \u001b[39m\u001b[38;5;124m'\u001b[39m \u001b[38;5;241m+\u001b[39m \u001b[38;5;124m'\u001b[39m\u001b[38;5;124m, \u001b[39m\u001b[38;5;124m'\u001b[39m\u001b[38;5;241m.\u001b[39mjoin(clustering) \u001b[38;5;28;01mif\u001b[39;00m clustering \u001b[38;5;28;01melse\u001b[39;00m \u001b[38;5;124m'\u001b[39m\u001b[38;5;124m'\u001b[39m)\n\u001b[1;32m--> 300\u001b[0m \u001b[38;5;28;01mraise\u001b[39;00m CQLEngineException(\u001b[38;5;124m\"\u001b[39m\u001b[38;5;124mModel \u001b[39m\u001b[38;5;132;01m{0}\u001b[39;00m\u001b[38;5;124m PRIMARY KEY composition does not match existing table \u001b[39m\u001b[38;5;132;01m{1}\u001b[39;00m\u001b[38;5;124m. \u001b[39m\u001b[38;5;124m\"\u001b[39m\n\u001b[0;32m    301\u001b[0m                          \u001b[38;5;124m\"\u001b[39m\u001b[38;5;124mModel: \u001b[39m\u001b[38;5;132;01m{2}\u001b[39;00m\u001b[38;5;124m; Table: \u001b[39m\u001b[38;5;132;01m{3}\u001b[39;00m\u001b[38;5;124m. \u001b[39m\u001b[38;5;124m\"\u001b[39m\n\u001b[0;32m    302\u001b[0m                          \u001b[38;5;124m\"\u001b[39m\u001b[38;5;124mUpdate model or drop the table.\u001b[39m\u001b[38;5;124m\"\u001b[39m\u001b[38;5;241m.\u001b[39mformat(model, model\u001b[38;5;241m.\u001b[39mcolumn_family_name(),\n\u001b[0;32m    303\u001b[0m                                                                   _pk_string(model_partition, model_clustering),\n\u001b[0;32m    304\u001b[0m                                                                   _pk_string(meta_partition, meta_clustering)))\n",
      "\u001b[1;31mCQLEngineException\u001b[0m: Model <class 'cassandra.cqlengine.models.Video'> PRIMARY KEY composition does not match existing table \"SpotifyAPI_app\".video. Model: PRIMARY KEY ((host_id), db_id); Table: PRIMARY KEY ((spotify_id), db_id). Update model or drop the table."
     ]
    }
   ],
   "source": [
    "sync_table(Video)"
   ]
  },
  {
   "cell_type": "code",
   "execution_count": 36,
   "id": "e089fddf",
   "metadata": {},
   "outputs": [
    {
     "data": {
      "text/plain": [
       "User(email=abc@gmail.com, user_id=c520d421-0162-11ee-8c3f-0c54153d10bb)"
      ]
     },
     "execution_count": 36,
     "metadata": {},
     "output_type": "execute_result"
    }
   ],
   "source": [
    "abc = User.objects.get(email='abc@gmail.com')\n",
    "abc"
   ]
  },
  {
   "cell_type": "code",
   "execution_count": 37,
   "id": "aa3e55c7",
   "metadata": {},
   "outputs": [
    {
     "ename": "AttributeError",
     "evalue": "'ModelQuerySet' object has no attribute 'fliter'",
     "output_type": "error",
     "traceback": [
      "\u001b[1;31m---------------------------------------------------------------------------\u001b[0m",
      "\u001b[1;31mAttributeError\u001b[0m                            Traceback (most recent call last)",
      "Cell \u001b[1;32mIn[37], line 2\u001b[0m\n\u001b[0;32m      1\u001b[0m url \u001b[38;5;241m=\u001b[39m \u001b[38;5;124m'\u001b[39m\u001b[38;5;124mhttps://www.youtube.com/watch?v=nNjfA8V6xkQ&ab_channel=ONEMedia\u001b[39m\u001b[38;5;124m'\u001b[39m\n\u001b[1;32m----> 2\u001b[0m obj \u001b[38;5;241m=\u001b[39m \u001b[43mVideo\u001b[49m\u001b[38;5;241;43m.\u001b[39;49m\u001b[43madd_video\u001b[49m\u001b[43m(\u001b[49m\u001b[43murl\u001b[49m\u001b[43m,\u001b[49m\u001b[43m \u001b[49m\u001b[43muser_id\u001b[49m\u001b[38;5;241;43m=\u001b[39;49m\u001b[43mabc\u001b[49m\u001b[38;5;241;43m.\u001b[39;49m\u001b[43muser_id\u001b[49m\u001b[43m)\u001b[49m\n",
      "File \u001b[1;32mF:\\project4\\application\\videos\\models.py:36\u001b[0m, in \u001b[0;36mVideo.add_video\u001b[1;34m(url, user_id)\u001b[0m\n\u001b[0;32m     34\u001b[0m \u001b[38;5;28;01mif\u001b[39;00m user_exists \u001b[38;5;129;01mis\u001b[39;00m \u001b[38;5;28;01mNone\u001b[39;00m:\n\u001b[0;32m     35\u001b[0m     \u001b[38;5;28;01mraise\u001b[39;00m InvalidUserIDException(\u001b[38;5;124m\"\u001b[39m\u001b[38;5;124mInvalid user_id\u001b[39m\u001b[38;5;124m\"\u001b[39m)\n\u001b[1;32m---> 36\u001b[0m q \u001b[38;5;241m=\u001b[39m \u001b[43mVideo\u001b[49m\u001b[38;5;241;43m.\u001b[39;49m\u001b[43mobjects\u001b[49m\u001b[38;5;241;43m.\u001b[39;49m\u001b[43mallow_filtering\u001b[49m\u001b[43m(\u001b[49m\u001b[43m)\u001b[49m\u001b[38;5;241;43m.\u001b[39;49m\u001b[43mfliter\u001b[49m(host_id\u001b[38;5;241m=\u001b[39mhost_id, user_id\u001b[38;5;241m=\u001b[39muser_id)\n\u001b[0;32m     37\u001b[0m \u001b[38;5;28;01mif\u001b[39;00m q\u001b[38;5;241m.\u001b[39mcount() \u001b[38;5;241m!=\u001b[39m \u001b[38;5;241m0\u001b[39m:\n\u001b[0;32m     38\u001b[0m     \u001b[38;5;28;01mraise\u001b[39;00m SongAddedException(\u001b[38;5;124m\"\u001b[39m\u001b[38;5;124mVideo already added\u001b[39m\u001b[38;5;124m\"\u001b[39m)\n",
      "\u001b[1;31mAttributeError\u001b[0m: 'ModelQuerySet' object has no attribute 'fliter'"
     ]
    }
   ],
   "source": [
    "url = 'https://www.youtube.com/watch?v=nNjfA8V6xkQ&ab_channel=ONEMedia'\n",
    "obj = Video.add_video(url, user_id=abc.user_id)"
   ]
  },
  {
   "cell_type": "code",
   "execution_count": 7,
   "id": "3f79a984",
   "metadata": {},
   "outputs": [],
   "source": []
  },
  {
   "cell_type": "code",
   "execution_count": 15,
   "id": "34ec7428",
   "metadata": {},
   "outputs": [],
   "source": []
  },
  {
   "cell_type": "code",
   "execution_count": 16,
   "id": "7ca2c0e2",
   "metadata": {},
   "outputs": [],
   "source": []
  },
  {
   "cell_type": "code",
   "execution_count": 17,
   "id": "28639c7d",
   "metadata": {},
   "outputs": [
    {
     "data": {
      "text/plain": [
       "'DROP TABLE IF EXISTS SpotifyAPI_app.video'"
      ]
     },
     "execution_count": 17,
     "metadata": {},
     "output_type": "execute_result"
    }
   ],
   "source": []
  },
  {
   "cell_type": "code",
   "execution_count": 18,
   "id": "87d95a1e",
   "metadata": {},
   "outputs": [
    {
     "ename": "InvalidRequest",
     "evalue": "Error from server: code=2200 [Invalid query] message=\"Unknown keyspace spotifyapi_app\"",
     "output_type": "error",
     "traceback": [
      "\u001b[1;31m---------------------------------------------------------------------------\u001b[0m",
      "\u001b[1;31mInvalidRequest\u001b[0m                            Traceback (most recent call last)",
      "Cell \u001b[1;32mIn[18], line 1\u001b[0m\n\u001b[1;32m----> 1\u001b[0m \u001b[43msession\u001b[49m\u001b[38;5;241;43m.\u001b[39;49m\u001b[43mexecute\u001b[49m\u001b[43m(\u001b[49m\u001b[43mcmd\u001b[49m\u001b[43m)\u001b[49m\n",
      "File \u001b[1;32mF:\\project4\\p4env\\lib\\site-packages\\cassandra\\cluster.py:2634\u001b[0m, in \u001b[0;36mcassandra.cluster.Session.execute\u001b[1;34m()\u001b[0m\n",
      "File \u001b[1;32mF:\\project4\\p4env\\lib\\site-packages\\cassandra\\cluster.py:4917\u001b[0m, in \u001b[0;36mcassandra.cluster.ResponseFuture.result\u001b[1;34m()\u001b[0m\n",
      "\u001b[1;31mInvalidRequest\u001b[0m: Error from server: code=2200 [Invalid query] message=\"Unknown keyspace spotifyapi_app\""
     ]
    }
   ],
   "source": []
  },
  {
   "cell_type": "code",
   "execution_count": null,
   "id": "e858119f",
   "metadata": {},
   "outputs": [],
   "source": []
  }
 ],
 "metadata": {
  "kernelspec": {
   "display_name": "Python 3 (ipykernel)",
   "language": "python",
   "name": "python3"
  },
  "language_info": {
   "codemirror_mode": {
    "name": "ipython",
    "version": 3
   },
   "file_extension": ".py",
   "mimetype": "text/x-python",
   "name": "python",
   "nbconvert_exporter": "python",
   "pygments_lexer": "ipython3",
   "version": "3.10.0"
  }
 },
 "nbformat": 4,
 "nbformat_minor": 5
}
