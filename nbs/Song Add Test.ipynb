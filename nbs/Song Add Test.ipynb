{
 "cells": [
  {
   "cell_type": "code",
   "execution_count": 1,
   "id": "ba5e101f",
   "metadata": {},
   "outputs": [
    {
     "name": "stdout",
     "output_type": "stream",
     "text": [
      "F:\\project4\n"
     ]
    }
   ],
   "source": [
    "%cd F:\\project4\n"
   ]
  },
  {
   "cell_type": "code",
   "execution_count": 19,
   "id": "b22c278f",
   "metadata": {},
   "outputs": [],
   "source": [
    "from application import db\n",
    "from application.users.models import User\n",
    "from application.songs.models import Song\n",
    "from cassandra.cqlengine.management import sync_table\n"
   ]
  },
  {
   "cell_type": "code",
   "execution_count": 20,
   "id": "8f3fa402",
   "metadata": {},
   "outputs": [],
   "source": [
    "db.get_session()\n",
    "sync_table(User)\n",
    "sync_table(Song)"
   ]
  },
  {
   "cell_type": "code",
   "execution_count": 21,
   "id": "4a40a780",
   "metadata": {},
   "outputs": [
    {
     "data": {
      "text/plain": [
       "User(email=abc@gmail.com, user_id=c520d421-0162-11ee-8c3f-0c54153d10bb)"
      ]
     },
     "execution_count": 21,
     "metadata": {},
     "output_type": "execute_result"
    }
   ],
   "source": [
    "abc = User.objects.get(email=\"abc@gmail.com\")\n",
    "abc"
   ]
  },
  {
   "cell_type": "code",
   "execution_count": 23,
   "id": "fc5e2a0e",
   "metadata": {},
   "outputs": [
    {
     "ename": "Exception",
     "evalue": "Invalid spotify song URL",
     "output_type": "error",
     "traceback": [
      "\u001b[1;31m---------------------------------------------------------------------------\u001b[0m",
      "\u001b[1;31mException\u001b[0m                                 Traceback (most recent call last)",
      "Cell \u001b[1;32mIn[23], line 2\u001b[0m\n\u001b[0;32m      1\u001b[0m url \u001b[38;5;241m=\u001b[39m \u001b[38;5;124m'\u001b[39m\u001b[38;5;124mhttp://youtu.be/nNpvWBuTfrc\u001b[39m\u001b[38;5;124m'\u001b[39m\n\u001b[1;32m----> 2\u001b[0m obj \u001b[38;5;241m=\u001b[39m \u001b[43mSong\u001b[49m\u001b[38;5;241;43m.\u001b[39;49m\u001b[43madd_song\u001b[49m\u001b[43m(\u001b[49m\u001b[43murl\u001b[49m\u001b[43m,\u001b[49m\u001b[43m \u001b[49m\u001b[43muser_id\u001b[49m\u001b[38;5;241;43m=\u001b[39;49m\u001b[43mabc\u001b[49m\u001b[38;5;241;43m.\u001b[39;49m\u001b[43muser_id\u001b[49m\u001b[43m)\u001b[49m\n",
      "File \u001b[1;32mF:\\project4\\application\\songs\\models.py:30\u001b[0m, in \u001b[0;36mSong.add_song\u001b[1;34m(url, user_id)\u001b[0m\n\u001b[0;32m     28\u001b[0m host_id \u001b[38;5;241m=\u001b[39m extract_song_id(url)\n\u001b[0;32m     29\u001b[0m \u001b[38;5;28;01mif\u001b[39;00m host_id \u001b[38;5;129;01mis\u001b[39;00m \u001b[38;5;28;01mNone\u001b[39;00m:\n\u001b[1;32m---> 30\u001b[0m     \u001b[38;5;28;01mraise\u001b[39;00m \u001b[38;5;167;01mException\u001b[39;00m(\u001b[38;5;124m\"\u001b[39m\u001b[38;5;124mInvalid spotify song URL\u001b[39m\u001b[38;5;124m\"\u001b[39m)\n\u001b[0;32m     31\u001b[0m user_exists \u001b[38;5;241m=\u001b[39m User\u001b[38;5;241m.\u001b[39mcheck_exists(user_id)\n\u001b[0;32m     32\u001b[0m \u001b[38;5;28;01mif\u001b[39;00m user_exists \u001b[38;5;129;01mis\u001b[39;00m \u001b[38;5;28;01mNone\u001b[39;00m:\n",
      "\u001b[1;31mException\u001b[0m: Invalid spotify song URL"
     ]
    }
   ],
   "source": [
    "url = 'http://youtu.be/nNpvWBuTfrc'\n",
    "obj = Song.add_song(url, user_id=abc.user_id)\n"
   ]
  },
  {
   "cell_type": "code",
   "execution_count": null,
   "id": "e089fddf",
   "metadata": {},
   "outputs": [],
   "source": []
  }
 ],
 "metadata": {
  "kernelspec": {
   "display_name": "Python 3 (ipykernel)",
   "language": "python",
   "name": "python3"
  },
  "language_info": {
   "codemirror_mode": {
    "name": "ipython",
    "version": 3
   },
   "file_extension": ".py",
   "mimetype": "text/x-python",
   "name": "python",
   "nbconvert_exporter": "python",
   "pygments_lexer": "ipython3",
   "version": "3.10.0"
  }
 },
 "nbformat": 4,
 "nbformat_minor": 5
}
